{
 "cells": [
  {
   "cell_type": "code",
   "execution_count": null,
   "metadata": {},
   "outputs": [],
   "source": [
    "import init_db\n",
    "\n",
    "neo4jdb = init_db.Neo4jDB(\"bolt:0.0.0.0:7687\", \"neo4j\", \"1qaz@WSX\")\n",
    "neo4jdb.connect()"
   ]
  },
  {
   "cell_type": "code",
   "execution_count": 40,
   "metadata": {},
   "outputs": [
    {
     "name": "stdout",
     "output_type": "stream",
     "text": [
      "(<Relationship id=67 nodes=(<Node id=151 labels=frozenset({'sample'}) properties={'HER2_SNP6': 'NEUT', 'HER2_STATUS': '-', 'AGE_AT_DIAGNOSIS': '66.72', 'NPI': '5.032', 'CELLULARITY': 'high', 'ONCOTREE_CODE': 'IDC', 'HORMONE_THERAPY': 'YES', 'LATERALITY': 'r', 'SAMPLE_TYPE': 'Primary', 'TUMOR_SIZE': '16', 'ER_IHC': 'pos', 'OS_MONTHS': '33.8', 'PR_STATUS': '+', 'CLAUDIN_SUBTYPE': 'LumA', 'OS_STATUS': 'DECEASED', 'BREAST_SURGERY': 'BREAST CONSERVING', 'HISTOLOGICAL_SUBTYPE': 'IDC', 'VITAL_STATUS': 'Died of Other Causes', 'THREEGENE': 'ER+/HER2- Low Prolif', 'ER_STATUS': '+', 'RADIO_THERAPY': 'YES', 'CHEMOTHERAPY': 'NO', 'INFERRED_MENOPAUSAL_STATE': 'post', 'INTCLUST': '8', 'name': 'MB-0422', 'GRADE': '2', 'COHORT': '1', 'PATIENT_ID': 'MB-0422', 'TUMOR_STAGE': '2'}>, <Node id=15941 labels=frozenset({'hugosymbol'}) properties={'name': 'PTEN', 'pagerank': '0.15000000000000002'}>) type='mutation' properties={'RefSeq': 'NM_000314.4', 'Match_Norm_Seq_Allele1': '', 'dbSNP_RS': '', 'Validation_Method': '', 'Match_Norm_Seq_Allele2': '', 'n_ref_count': '', 't_alt_count': '', 'BAM_File': '', 'Variant_Classification': 'Frame_Shift_Del', 'Transcript_ID': 'ENST00000371953', 'dbSNP_Val_Status': '', 'Mutation_Status': '', 'Matched_Norm_Sample_Barcode': '', 'Validation_Status': '', 'HGVSp_Short': 'p.I300Mfs*7', 'Reference_Allele': 'C', 'Variant_Type': 'DEL', 'Strand': '+', 'Sequencer': 'Illumina HiSeq 2', 'n_alt_count': '', 'Center': 'METABRIC', 'Match_Norm_Validation_Allele2': '', 'End_Position': '89720749.0', 'Verification_Status': '', 'Consequence': 'frameshift_variant', 't_ref_count': '', 'Chromosome': '10.0', 'Match_Norm_Validation_Allele1': '', 'Tumor_Seq_Allele2': '-', 'HGVSp': 'p.Ile300MetfsTer7', 'Hotspot': '0', 'Tumor_Seq_Allele1': 'C', 'Start_Position': '89720749.0', 'Score': '', 'Sequencing_Phase': '', 'Tumor_Validation_Allele2': '', 'Tumor_Validation_Allele1': '', 'Protein_position': '300.0', 'NCBI_Build': 'GRCh37', 'Codons': 'atC/at', 'HGVSc': 'ENST00000371953.3', 'Sequence_Source': ''}>, <Relationship id=2136 nodes=(<Node id=2077 labels=frozenset({'sample'}) properties={'HER2_SNP6': 'NEUT', 'HER2_STATUS': '-', 'AGE_AT_DIAGNOSIS': '73.15', 'CELLULARITY': 'low', 'ONCOTREE_CODE': 'IDC', 'HORMONE_THERAPY': 'NO', 'LATERALITY': 'r', 'TUMOR_SIZE': '25', 'SAMPLE_TYPE': 'Primary', 'PR_STATUS': '+', 'ER_IHC': 'pos', 'OS_STATUS': 'DECEASED', 'CLAUDIN_SUBTYPE': 'Her2', 'BREAST_SURGERY': 'MASTECTOMY', 'HISTOLOGICAL_SUBTYPE': 'IDC', 'VITAL_STATUS': 'Died of Other Causes', 'THREEGENE': 'null', 'ER_STATUS': '+', 'RADIO_THERAPY': 'NO', 'CHEMOTHERAPY': 'NO', 'INFERRED_MENOPAUSAL_STATE': 'post', 'INTCLUST': '6', 'name': 'MB-4010', 'GRADE': '3', 'COHORT': '3', 'PATIENT_ID': 'MB-4010', 'TUMOR_STAGE': '2'}>, <Node id=15941 labels=frozenset({'hugosymbol'}) properties={'name': 'PTEN', 'pagerank': '0.15000000000000002'}>) type='mutation' properties={'RefSeq': 'NM_000314.4', 'Match_Norm_Seq_Allele1': '', 'dbSNP_RS': '', 'Validation_Method': '', 'Match_Norm_Seq_Allele2': '', 'n_ref_count': '', 't_alt_count': '', 'BAM_File': '', 'Variant_Classification': 'Frame_Shift_Ins', 'Transcript_ID': 'ENST00000371953', 'dbSNP_Val_Status': '', 'Mutation_Status': '', 'Matched_Norm_Sample_Barcode': '', 'Validation_Status': '', 'HGVSp_Short': 'p.V290Sfs*8', 'Reference_Allele': '-', 'Variant_Type': 'INS', 'Strand': '+', 'Sequencer': 'Illumina HiSeq 2', 'n_alt_count': '', 'Center': 'METABRIC', 'Match_Norm_Validation_Allele2': '', 'End_Position': '89720713.0', 'Verification_Status': '', 'Consequence': 'frameshift_variant', 't_ref_count': '', 'Chromosome': '10.0', 'Match_Norm_Validation_Allele1': '', 'Tumor_Seq_Allele2': 'A', 'HGVSp': 'p.Val290SerfsTer8', 'Hotspot': '0', 'Tumor_Seq_Allele1': '-', 'Start_Position': '89720712.0', 'Score': '', 'Sequencing_Phase': '', 'Tumor_Validation_Allele2': '', 'Tumor_Validation_Allele1': '', 'Protein_position': '288.0', 'NCBI_Build': 'GRCh37', 'Codons': 'gaa/gaAa', 'HGVSc': 'ENST00000371953.3', 'Sequence_Source': ''}>, <Relationship id=2148 nodes=(<Node id=2077 labels=frozenset({'sample'}) properties={'HER2_SNP6': 'NEUT', 'HER2_STATUS': '-', 'AGE_AT_DIAGNOSIS': '73.15', 'CELLULARITY': 'low', 'ONCOTREE_CODE': 'IDC', 'HORMONE_THERAPY': 'NO', 'LATERALITY': 'r', 'TUMOR_SIZE': '25', 'SAMPLE_TYPE': 'Primary', 'PR_STATUS': '+', 'ER_IHC': 'pos', 'OS_STATUS': 'DECEASED', 'CLAUDIN_SUBTYPE': 'Her2', 'BREAST_SURGERY': 'MASTECTOMY', 'HISTOLOGICAL_SUBTYPE': 'IDC', 'VITAL_STATUS': 'Died of Other Causes', 'THREEGENE': 'null', 'ER_STATUS': '+', 'RADIO_THERAPY': 'NO', 'CHEMOTHERAPY': 'NO', 'INFERRED_MENOPAUSAL_STATE': 'post', 'INTCLUST': '6', 'name': 'MB-4010', 'GRADE': '3', 'COHORT': '3', 'PATIENT_ID': 'MB-4010', 'TUMOR_STAGE': '2'}>, <Node id=4059 labels=frozenset({'hugosymbol'}) properties={'name': 'BIRC6', 'pagerank': '0.15000000000000002', 'EntrezGeneId': '57448'}>) type='mutation' properties={'RefSeq': 'NM_016252.3', 'Match_Norm_Seq_Allele1': '', 'dbSNP_RS': '', 'Validation_Method': '', 'Match_Norm_Seq_Allele2': '', 'n_ref_count': '', 't_alt_count': '', 'BAM_File': '', 'Variant_Classification': 'Silent', 'Transcript_ID': 'ENST00000421745', 'dbSNP_Val_Status': '', 'Mutation_Status': '', 'Matched_Norm_Sample_Barcode': '', 'Validation_Status': '', 'HGVSp_Short': 'p.P39=', 'Reference_Allele': 'C', 'Variant_Type': 'SNP', 'Strand': '+', 'Sequencer': 'Illumina HiSeq 2', 'n_alt_count': '', 'Center': 'METABRIC', 'Match_Norm_Validation_Allele2': '', 'Verification_Status': '', 'End_Position': '32582346.0', 'Consequence': 'synonymous_variant', 't_ref_count': '', 'Chromosome': '2.0', 'HGVSp': 'p.Pro39=', 'Match_Norm_Validation_Allele1': '', 'Tumor_Seq_Allele2': 'G', 'Hotspot': '0', 'Tumor_Seq_Allele1': 'C', 'Start_Position': '32582346.0', 'Score': '', 'Sequencing_Phase': '', 'Tumor_Validation_Allele2': '', 'Tumor_Validation_Allele1': '', 'NCBI_Build': 'GRCh37', 'Protein_position': '39.0', 'Codons': 'ccC/ccG', 'HGVSc': 'ENST00000421745.2', 'Sequence_Source': ''}>, <Relationship id=56 nodes=(<Node id=44 labels=frozenset({'sample'}) properties={'HER2_SNP6': 'NEUT', 'HER2_STATUS': '-', 'AGE_AT_DIAGNOSIS': '34.92', 'NPI': '4.032', 'CELLULARITY': 'high', 'ONCOTREE_CODE': 'IDC', 'HORMONE_THERAPY': 'NO', 'LATERALITY': 'l', 'SAMPLE_TYPE': 'Primary', 'TUMOR_SIZE': '16', 'OS_MONTHS': '76.73333333', 'ER_IHC': 'neg', 'PR_STATUS': '-', 'OS_STATUS': 'LIVING', 'CLAUDIN_SUBTYPE': 'claudin-low', 'BREAST_SURGERY': 'BREAST CONSERVING', 'HISTOLOGICAL_SUBTYPE': 'IDC', 'VITAL_STATUS': 'Living', 'THREEGENE': 'ER-/HER2-', 'ER_STATUS': '-', 'RADIO_THERAPY': 'YES', 'CHEMOTHERAPY': 'YES', 'INFERRED_MENOPAUSAL_STATE': 'pre', 'INTCLUST': '10', 'name': 'MB-0420', 'GRADE': '3', 'COHORT': '1', 'PATIENT_ID': 'MB-0420', 'TUMOR_STAGE': '1'}>, <Node id=4059 labels=frozenset({'hugosymbol'}) properties={'name': 'BIRC6', 'pagerank': '0.15000000000000002', 'EntrezGeneId': '57448'}>) type='mutation' properties={'RefSeq': 'NM_016252.3', 'Match_Norm_Seq_Allele1': '', 'dbSNP_RS': '', 'Validation_Method': '', 'Match_Norm_Seq_Allele2': '', 'n_ref_count': '', 't_alt_count': '', 'BAM_File': '', 'Variant_Classification': 'Missense_Mutation', 'Transcript_ID': 'ENST00000421745', 'dbSNP_Val_Status': '', 'Mutation_Status': '', 'Matched_Norm_Sample_Barcode': '', 'Validation_Status': '', 'HGVSp_Short': 'p.G1603R', 'Reference_Allele': 'G', 'Variant_Type': 'SNP', 'Strand': '+', 'Sequencer': 'Illumina HiSeq 2', 'n_alt_count': '', 'Center': 'METABRIC', 'Match_Norm_Validation_Allele2': '', 'End_Position': '32688315.0', 'Verification_Status': '', 'Consequence': 'missense_variant', 't_ref_count': '', 'Chromosome': '2.0', 'HGVSp': 'p.Gly1603Arg', 'Match_Norm_Validation_Allele1': '', 'Hotspot': '0', 'Tumor_Seq_Allele2': 'A', 'Tumor_Seq_Allele1': 'G', 'Start_Position': '32688315.0', 'Score': '', 'Sequencing_Phase': '', 'Tumor_Validation_Allele2': '', 'Tumor_Validation_Allele1': '', 'NCBI_Build': 'GRCh37', 'Protein_position': '1603.0', 'Codons': 'Ggg/Agg', 'HGVSc': 'ENST00000421745.2', 'Sequence_Source': ''}>)\n"
     ]
    }
   ],
   "source": [
    "shortestPath = neo4jdb.run_query(\"\"\"MATCH (s1:sample {PATIENT_ID: 'MB-0422'}),\n",
    "      (s2:sample {PATIENT_ID: 'MB-0420'}),\n",
    "      p = shortestPath((s1)-[*]-(s2))\n",
    "WHERE length(p) > 1\n",
    "RETURN p \"\"\")\n",
    "\n",
    "nodes = None\n",
    "for record in shortestPath:\n",
    "    nodes = record[\"p\"].relationships\n",
    "\n",
    "print(nodes)\n"
   ]
  },
  {
   "cell_type": "code",
   "execution_count": 41,
   "metadata": {},
   "outputs": [
    {
     "name": "stdout",
     "output_type": "stream",
     "text": [
      "{'ENST00000371953', 'ENST00000421745'}\n"
     ]
    }
   ],
   "source": [
    "import requests, sys\n",
    " \n",
    "server = \"https://rest.ensembl.org\"\n",
    "\n",
    "transcriptIDs = set()\n",
    "\n",
    "for node in nodes:\n",
    "    if node['Transcript_ID']:\n",
    "        transcriptIDs.add(node['Transcript_ID'])\n",
    "\n",
    "print(transcriptIDs)"
   ]
  },
  {
   "cell_type": "code",
   "execution_count": 42,
   "metadata": {},
   "outputs": [],
   "source": [
    "transcript_seq = []\n",
    "for transcriptID in transcriptIDs:\n",
    "    uri = server+\"/sequence/id/\" + transcriptID + \"?type=cdna\"\n",
    "    r = requests.get(uri, headers={ \"Content-Type\" : \"text/x-fasta\"})\n",
    "    if not r.ok:\n",
    "        r.raise_for_status()\n",
    "        exit()\n",
    "    transcript_seq.append(r.text)"
   ]
  },
  {
   "cell_type": "code",
   "execution_count": 43,
   "metadata": {},
   "outputs": [],
   "source": [
    "output_file = open('blast_data/queries/transcript.fsa', 'w')\n",
    "\n",
    "for seq in transcript_seq:\n",
    "    output_file.write(seq)\n",
    "\n",
    "output_file.close()"
   ]
  },
  {
   "cell_type": "code",
   "execution_count": 44,
   "metadata": {},
   "outputs": [
    {
     "name": "stdout",
     "output_type": "stream",
     "text": [
      "0\n"
     ]
    }
   ],
   "source": [
    "import os\n",
    "print(os.system('docker run --rm \\\n",
    "    -v $HOME/Projects/lectures/github_repositories/GitHub/bmi-fmi-2021/SEMESTER_2/Lectures/lecture_2/data_integration/blast_data/blastdb:/blast/blastdb:ro \\\n",
    "    -v $HOME/Projects/lectures/github_repositories/GitHub/bmi-fmi-2021/SEMESTER_2/Lectures/lecture_2/data_integration/blast_data/queries:/blast/queries:ro \\\n",
    "    -v $HOME/Projects/lectures/github_repositories/GitHub/bmi-fmi-2021/SEMESTER_2/Lectures/lecture_2/data_integration/blast_data/results:/blast/results:rw \\\n",
    "    ncbi/blast \\\n",
    "    blastp -query /blast/queries/transcript.fsa -db pdbaa \\\n",
    "    -out /blast/results/blastp.out'))"
   ]
  }
 ],
 "metadata": {
  "interpreter": {
   "hash": "aee8b7b246df8f9039afb4144a1f6fd8d2ca17a180786b69acc140d282b71a49"
  },
  "kernelspec": {
   "display_name": "Python 3.9.7 64-bit",
   "language": "python",
   "name": "python3"
  },
  "language_info": {
   "codemirror_mode": {
    "name": "ipython",
    "version": 3
   },
   "file_extension": ".py",
   "mimetype": "text/x-python",
   "name": "python",
   "nbconvert_exporter": "python",
   "pygments_lexer": "ipython3",
   "version": "3.9.7"
  },
  "orig_nbformat": 4
 },
 "nbformat": 4,
 "nbformat_minor": 2
}
